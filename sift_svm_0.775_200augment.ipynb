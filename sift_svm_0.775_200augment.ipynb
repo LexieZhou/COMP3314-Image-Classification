{
 "cells": [
  {
   "cell_type": "code",
   "execution_count": 1,
   "metadata": {
    "_cell_guid": "b1076dfc-b9ad-4769-8c92-a6c4dae69d19",
    "_uuid": "8f2839f25d086af736a60e9eeb907d3b93b6e0e5",
    "execution": {
     "iopub.execute_input": "2024-11-19T05:14:32.507711Z",
     "iopub.status.busy": "2024-11-19T05:14:32.507261Z",
     "iopub.status.idle": "2024-11-19T05:14:33.996359Z",
     "shell.execute_reply": "2024-11-19T05:14:33.995102Z",
     "shell.execute_reply.started": "2024-11-19T05:14:32.507675Z"
    },
    "id": "KEWWi5lhjvUe",
    "trusted": true
   },
   "outputs": [],
   "source": [
    "# This Python 3 environment comes with many helpful analytics libraries installed\n",
    "# It is defined by the kaggle/python Docker image: https://github.com/kaggle/docker-python\n",
    "# For example, here's several helpful packages to load\n",
    "\n",
    "import numpy as np # linear algebra\n",
    "import pandas as pd # data processing, CSV file I/O (e.g. pd.read_csv)\n",
    "import cv2\n",
    "import os\n",
    "from PIL import Image\n",
    "from sklearn import svm\n",
    "from sklearn.svm import SVC\n",
    "from sklearn.model_selection import train_test_split\n",
    "from sklearn.preprocessing import StandardScaler\n",
    "from sklearn.metrics import accuracy_score, classification_report\n",
    "from sklearn.pipeline import make_pipeline\n",
    "from sklearn.decomposition import PCA\n",
    "\n",
    "# Input data files are available in the read-only \"../input/\" directory\n",
    "# For example, running this (by clicking run or pressing Shift+Enter) will list all files under the input directory\n",
    "# for dirname, _, filenames in os.walk('/kaggle/input'):\n",
    "#     for filename in filenames:\n",
    "#         print(os.path.join(dirname, filename))\n",
    "\n",
    "# You can write up to 20GB to the current directory (/kaggle/working/) that gets preserved as output when you create a version using \"Save & Run All\"\n",
    "# You can also write temporary files to /kaggle/temp/, but they won't be saved outside of the current session"
   ]
  },
  {
   "cell_type": "markdown",
   "metadata": {
    "id": "LSPDUl-gjvUg"
   },
   "source": [
    "## Global Parameters"
   ]
  },
  {
   "cell_type": "code",
   "execution_count": 2,
   "metadata": {
    "id": "beGCsCObjvUh"
   },
   "outputs": [],
   "source": [
    "SEED = 42\n",
    "pca_components = 200"
   ]
  },
  {
   "cell_type": "markdown",
   "metadata": {
    "id": "tvt83iLGjvUh"
   },
   "source": [
    "## Load the dataset"
   ]
  },
  {
   "cell_type": "code",
   "execution_count": 3,
   "metadata": {
    "execution": {
     "iopub.execute_input": "2024-11-19T05:14:34.092462Z",
     "iopub.status.busy": "2024-11-19T05:14:34.091515Z",
     "iopub.status.idle": "2024-11-19T05:14:34.203483Z",
     "shell.execute_reply": "2024-11-19T05:14:34.202337Z",
     "shell.execute_reply.started": "2024-11-19T05:14:34.092420Z"
    },
    "id": "LqUzd2ZwjvUh",
    "trusted": true
   },
   "outputs": [],
   "source": [
    "# Load train.csv\n",
    "train_df = pd.read_csv('./data/train.csv')\n",
    "test_df = pd.read_csv('./data/test.csv')\n",
    "\n",
    "# Set image directories\n",
    "train_images_path = './data/train_ims/'\n",
    "test_images_path = './data/test_ims/'"
   ]
  },
  {
   "cell_type": "markdown",
   "metadata": {
    "id": "ujZApCmgjvUi"
   },
   "source": [
    "### Data Augmentation"
   ]
  },
  {
   "cell_type": "code",
   "execution_count": 4,
   "metadata": {
    "id": "62v6h8Z5jvUi"
   },
   "outputs": [],
   "source": [
    "def apply_color_jitter(image, brightness=0.2, contrast=0.2, saturation=0.2):\n",
    "    # Convert to HSV for saturation adjustment\n",
    "    hsv_image = cv2.cvtColor(image, cv2.COLOR_RGB2HSV).astype(np.float32)\n",
    "\n",
    "    # Adjust brightness\n",
    "    brightness_factor = 1 + np.random.uniform(-brightness, brightness)\n",
    "    hsv_image[:, :, 2] = np.clip(hsv_image[:, :, 2] * brightness_factor, 0, 255)\n",
    "\n",
    "    # Adjust saturation\n",
    "    saturation_factor = 1 + np.random.uniform(-saturation, saturation)\n",
    "    hsv_image[:, :, 1] = np.clip(hsv_image[:, :, 1] * saturation_factor, 0, 255)\n",
    "\n",
    "    # Convert back to RGB\n",
    "    adjusted_image = cv2.cvtColor(hsv_image.astype(np.uint8), cv2.COLOR_HSV2RGB)\n",
    "\n",
    "    # Adjust contrast\n",
    "    contrast_factor = 1 + np.random.uniform(-contrast, contrast)\n",
    "    mean_pixel = np.mean(adjusted_image, axis=(0, 1), keepdims=True)\n",
    "    adjusted_image = np.clip((adjusted_image - mean_pixel) * contrast_factor + mean_pixel, 0, 255).astype(np.uint8)\n",
    "\n",
    "    return adjusted_image"
   ]
  },
  {
   "cell_type": "code",
   "execution_count": 5,
   "metadata": {
    "id": "RujqlEUwjvUj"
   },
   "outputs": [],
   "source": [
    "import numpy as np\n",
    "import cv2\n",
    "\n",
    "def augment_data(X, y, seed=None):\n",
    "    if seed is not None:\n",
    "        np.random.seed(seed)\n",
    "\n",
    "    augmented_X = [X]  # Start with original images\n",
    "    augmented_y = [y]  # Start with original labels\n",
    "\n",
    "    # Horizontal flip\n",
    "    X_flipped = X[:, :, ::-1, :]  # Horizontal flip\n",
    "    augmented_X.append(X_flipped)\n",
    "    augmented_y.append(y)\n",
    "\n",
    "    # Random rotation\n",
    "    X_rotated = []\n",
    "    y_rotated = []\n",
    "    for img, label in zip(X, y):\n",
    "        if np.random.rand() < 0.2:\n",
    "            angle = np.random.uniform(-15, 15)  # Random angle between -15 and 15 degrees\n",
    "            h, w = img.shape[:2]\n",
    "            M = cv2.getRotationMatrix2D((w / 2, h / 2), angle, 1)\n",
    "            rotated_img = cv2.warpAffine(img, M, (w, h), borderMode=cv2.BORDER_REFLECT)\n",
    "            X_rotated.append(rotated_img)\n",
    "            y_rotated.append(label)\n",
    "    augmented_X.append(np.array(X_rotated))\n",
    "    augmented_y.append(np.array(y_rotated))\n",
    "\n",
    "    # Random Color Jitter (10% chance per image)\n",
    "    X_jittered = []\n",
    "    y_jittered = []\n",
    "    for img, label in zip(X, y):\n",
    "        if np.random.rand() < 0.1:  # 10% chance for each image\n",
    "            jittered_img = apply_color_jitter(img, brightness=0.2, contrast = 0.2, saturation = 0.2)\n",
    "            X_jittered.append(jittered_img)\n",
    "            y_jittered.append(label)\n",
    "    augmented_X.append(np.array(X_jittered))\n",
    "    augmented_y.append(np.array(y_jittered))\n",
    "\n",
    "    # Random Crop (10% chance per image)\n",
    "    X_cropped = []\n",
    "    y_cropped = []\n",
    "    crop_margin = 16  # Total pixels to crop\n",
    "    for img, label in zip(X, y):\n",
    "        if np.random.rand() < 0.1:  # 10% chance for each image\n",
    "            h, w = img.shape[:2]\n",
    "            crop_h, crop_w = h - crop_margin, w - crop_margin\n",
    "            y0 = np.random.randint(0, h - crop_h + 1)\n",
    "            x0 = np.random.randint(0, w - crop_w + 1)\n",
    "            cropped_img = img[y0:y0 + crop_h, x0:x0 + crop_w]\n",
    "            cropped_img = cv2.resize(cropped_img, (w, h))  # Resize back to original dimensions\n",
    "            X_cropped.append(cropped_img)\n",
    "            y_cropped.append(label)\n",
    "    augmented_X.append(np.array(X_cropped))\n",
    "    augmented_y.append(np.array(y_cropped))\n",
    "\n",
    "    # Concatenate all augmented data and labels\n",
    "    X_augmented = np.concatenate(augmented_X, axis=0)\n",
    "    y_augmented = np.concatenate(augmented_y, axis=0)\n",
    "\n",
    "    return X_augmented, y_augmented\n"
   ]
  },
  {
   "cell_type": "code",
   "execution_count": 6,
   "metadata": {
    "id": "yfByMz5TjvUj"
   },
   "outputs": [],
   "source": [
    "\n",
    "\n",
    "def read_data(mode=\"train\", p=1.0, augment=False, seed=None, data_dir='./data'):\n",
    "    if mode == \"train\":\n",
    "        csv_path = os.path.join(data_dir, 'train.csv')\n",
    "        image_dir = os.path.join(data_dir, 'train_ims')\n",
    "    elif mode in [\"test\", \"predict\"]:\n",
    "        csv_path = os.path.join(data_dir, 'test.csv')\n",
    "        image_dir = os.path.join(data_dir, 'test_ims')\n",
    "        mode = \"test\"  # Ensure uniform handling for \"test\" and \"predict\"\n",
    "    else:\n",
    "        raise ValueError(\"mode must be 'train', 'test', or 'predict'\")\n",
    "\n",
    "    # Load the CSV file\n",
    "    data = pd.read_csv(csv_path)\n",
    "\n",
    "    # Sample a fraction of the data if p < 1.0\n",
    "    if mode == \"train\" and p < 1.0:\n",
    "        if seed is not None:\n",
    "            data = data.sample(frac=p, random_state=seed)\n",
    "        else:\n",
    "            data = data.sample(frac=p)\n",
    "\n",
    "    # Load images and labels\n",
    "    X = []\n",
    "    for filename in data['im_name']:\n",
    "        image_path = os.path.join(image_dir, filename)\n",
    "        img = Image.open(image_path).convert(\"RGB\")  # Convert to RGB\n",
    "        X.append(np.asarray(img))\n",
    "\n",
    "    X = np.stack(X)  # Stack into a 4D NumPy array\n",
    "\n",
    "    if mode == \"train\":\n",
    "        y = data['label'].values\n",
    "        if augment:\n",
    "            X_agumented, y_augmented = augment_data(X, y, SEED)\n",
    "            print(f\"Original shape: {X.shape}, Augmented shape: {X_agumented.shape}, Augmented labels shape: {y_augmented.shape}\")\n",
    "        return X_agumented, y_augmented\n",
    "        return X, y\n",
    "    else:\n",
    "        return X\n"
   ]
  },
  {
   "cell_type": "code",
   "execution_count": 7,
   "metadata": {
    "colab": {
     "base_uri": "https://localhost:8080/",
     "height": 293
    },
    "id": "FLx48tkBeX4b",
    "outputId": "1dad1390-df6f-45d0-d215-1ffa1e0c9776"
   },
   "outputs": [
    {
     "name": "stdout",
     "output_type": "stream",
     "text": [
      "Original shape: (50000, 32, 32, 3), Augmented shape: (119946, 32, 32, 3), Augmented labels shape: (119946,)\n"
     ]
    }
   ],
   "source": [
    "X_train, y_train = read_data(mode=\"train\", p=1, augment=True, seed=SEED)"
   ]
  },
  {
   "cell_type": "code",
   "execution_count": 8,
   "metadata": {
    "id": "oshJyXgljvUj"
   },
   "outputs": [
    {
     "name": "stdout",
     "output_type": "stream",
     "text": [
      "X_train shape: (119946, 32, 32, 3), y_train shape: (119946,)\n"
     ]
    },
    {
     "data": {
      "text/plain": [
       "((95956, 32, 32, 3), (95956,), (23990, 32, 32, 3), (23990,))"
      ]
     },
     "execution_count": 8,
     "metadata": {},
     "output_type": "execute_result"
    }
   ],
   "source": [
    "# X_train, y_train = prepare_augument_data(X_pre_train, y_pre_train)\n",
    "print(f\"X_train shape: {X_train.shape}, y_train shape: {y_train.shape}\")\n",
    "X_train, X_val, y_train, y_val = train_test_split(X_train, y_train, test_size=0.2, random_state=SEED)\n",
    "X_train.shape, y_train.shape, X_val.shape, y_val.shape"
   ]
  },
  {
   "cell_type": "markdown",
   "metadata": {
    "id": "EGFRUSCGjvUk"
   },
   "source": [
    "## Data Pre-processing"
   ]
  },
  {
   "cell_type": "code",
   "execution_count": 9,
   "metadata": {
    "execution": {
     "iopub.execute_input": "2024-11-19T05:14:37.705560Z",
     "iopub.status.busy": "2024-11-19T05:14:37.705148Z",
     "iopub.status.idle": "2024-11-19T05:14:37.714690Z",
     "shell.execute_reply": "2024-11-19T05:14:37.713176Z",
     "shell.execute_reply.started": "2024-11-19T05:14:37.705522Z"
    },
    "id": "xHOUo3LqjvUk",
    "trusted": true
   },
   "outputs": [
    {
     "data": {
      "text/plain": [
       "((95956, 128, 128, 3), (23990, 128, 128, 3))"
      ]
     },
     "execution_count": 9,
     "metadata": {},
     "output_type": "execute_result"
    }
   ],
   "source": [
    "# Resize the image\n",
    "def resize_images(imgs, size=(128, 128)):\n",
    "    resized_images = []\n",
    "    for img in imgs:\n",
    "        # Resize the image using OpenCV\n",
    "        resized = cv2.resize(img, size, interpolation=cv2.INTER_AREA)\n",
    "        resized_images.append(resized)\n",
    "    return np.array(resized_images)\n",
    "\n",
    "X_train_resized = resize_images(X_train)\n",
    "X_val_resized = resize_images(X_val)\n",
    "X_train_resized.shape, X_val_resized.shape"
   ]
  },
  {
   "cell_type": "markdown",
   "metadata": {
    "id": "P-Ggzmh_jvUk"
   },
   "source": [
    "### Extract Feature"
   ]
  },
  {
   "cell_type": "code",
   "execution_count": 10,
   "metadata": {
    "execution": {
     "iopub.execute_input": "2024-11-19T05:27:00.578824Z",
     "iopub.status.busy": "2024-11-19T05:27:00.578075Z",
     "iopub.status.idle": "2024-11-19T05:27:00.594170Z",
     "shell.execute_reply": "2024-11-19T05:27:00.592668Z",
     "shell.execute_reply.started": "2024-11-19T05:27:00.578766Z"
    },
    "id": "fbTez-MujvUk",
    "trusted": true
   },
   "outputs": [],
   "source": [
    "# SIFT feature extraction function\n",
    "def extract_sift_features(image):\n",
    "    sift = cv2.SIFT_create()\n",
    "    gray_image = cv2.cvtColor(image, cv2.COLOR_RGB2GRAY)\n",
    "    _, descriptors = sift.detectAndCompute(gray_image, None)\n",
    "    if descriptors is None:  # Handle case where no features are detected\n",
    "        descriptors = np.zeros((1,128))\n",
    "    return np.mean(descriptors, axis=0)"
   ]
  },
  {
   "cell_type": "code",
   "execution_count": 11,
   "metadata": {
    "id": "Fh-sZlYtjvUl"
   },
   "outputs": [],
   "source": [
    "from skimage.feature import hog\n",
    "from cv2 import HOGDescriptor\n",
    "\n",
    "def extract_hog_features(image):\n",
    "    hog_kwargs = {\n",
    "        \"_winSize\": (128, 128),\n",
    "        \"_blockSize\": (64, 64),\n",
    "        \"_blockStride\": (16, 16),\n",
    "        \"_cellSize\": (16, 16),\n",
    "        \"_nbins\": 10,\n",
    "        \"_derivAperture\": 1,\n",
    "        \"_winSigma\": -1,\n",
    "        \"_histogramNormType\": 0,\n",
    "        \"_L2HysThreshold\": 0.2,\n",
    "        \"_gammaCorrection\": True,\n",
    "        \"_nlevels\": 64,\n",
    "        \"_signedGradient\": True\n",
    "    }\n",
    "    hog = HOGDescriptor(**hog_kwargs)\n",
    "\n",
    "    gray_image = cv2.cvtColor(image, cv2.COLOR_RGB2GRAY)\n",
    "    features = hog.compute(gray_image).flatten()\n",
    "    return features"
   ]
  },
  {
   "cell_type": "code",
   "execution_count": 12,
   "metadata": {
    "id": "QCMFf2EojvUl"
   },
   "outputs": [],
   "source": [
    "def extract_eoh_features(image, cell_size=(8, 8), bins=16):\n",
    "    gray_image = cv2.cvtColor(image, cv2.COLOR_RGB2GRAY)\n",
    "    gx = cv2.Sobel(gray_image, cv2.CV_64F, 1, 0, ksize=3)\n",
    "    gy = cv2.Sobel(gray_image, cv2.CV_64F, 0, 1, ksize=3)\n",
    "    magnitude = np.sqrt(gx**2 + gy**2)\n",
    "    orientation = np.arctan2(gy, gx) * (180 / np.pi)\n",
    "    orientation[orientation < 0] += 180\n",
    "\n",
    "    h, w = gray_image.shape\n",
    "    cell_h, cell_w = cell_size\n",
    "    histograms = []\n",
    "\n",
    "    for i in range(0, h, cell_h):\n",
    "        for j in range(0, w, cell_w):\n",
    "            cell_magnitude = magnitude[i:i + cell_h, j:j + cell_w]\n",
    "            cell_orientation = orientation[i:i + cell_h, j:j + cell_w]\n",
    "            \n",
    "            hist, _ = np.histogram(\n",
    "                cell_orientation,\n",
    "                bins=bins,\n",
    "                range=(0, 180),\n",
    "                weights=cell_magnitude\n",
    "            )\n",
    "            histograms.append(hist)\n",
    "    eoh_hist = np.concatenate(histograms)\n",
    "    norm = np.linalg.norm(eoh_hist)\n",
    "    if norm > 0:\n",
    "        eoh_hist /= norm\n",
    "    return eoh_hist"
   ]
  },
  {
   "cell_type": "code",
   "execution_count": 13,
   "metadata": {
    "id": "jd7u6xqNjvUl"
   },
   "outputs": [],
   "source": [
    "from skimage.feature import local_binary_pattern\n",
    "\n",
    "def extract_lbp_features(image, radius=3, n_points=None, method='uniform'):\n",
    "    gray_image = cv2.cvtColor(image, cv2.COLOR_RGB2GRAY)\n",
    "    if n_points is None:\n",
    "        n_points = 8 * radius\n",
    "    lbp = local_binary_pattern(gray_image, n_points, radius, method)\n",
    "    n_bins = int(lbp.max() + 1)\n",
    "    hist, _ = np.histogram(lbp.ravel(), bins=n_bins, range=(0, n_bins))\n",
    "    hist = hist.astype(\"float\")\n",
    "    hist /= hist.sum() + 1e-6  # Add epsilon to avoid division by zero\n",
    "    return hist\n"
   ]
  },
  {
   "cell_type": "code",
   "execution_count": 14,
   "metadata": {},
   "outputs": [],
   "source": [
    "import cv2\n",
    "import numpy as np\n",
    "\n",
    "def extract_hist_feature(image):\n",
    "    image = cv2.cvtColor(image, cv2.COLOR_BGR2RGB)\n",
    "    bins = 8  # Number of bins in the histogram\n",
    "    hist_size = [bins, bins, bins]  # Number of bins for each channel\n",
    "    ranges = [0, 256, 0, 256, 0, 256]  # Range for each channel\n",
    "    hist = cv2.calcHist([image], [0, 1, 2], None, hist_size, ranges)\n",
    "    hist = cv2.normalize(hist, hist).flatten()\n",
    "    return hist"
   ]
  },
  {
   "cell_type": "code",
   "execution_count": null,
   "metadata": {
    "id": "eq4uh8RijvUl"
   },
   "outputs": [],
   "source": [
    "# combine features extracted from SIFT, HOG, EOH and HIST\n",
    "def combine_feature(image):\n",
    "    # Extract features using SIFT, HOG, EOH, and HIST\n",
    "    sift_features = extract_sift_features(image)\n",
    "    hog_features = extract_hog_features(image)\n",
    "    eoh_features = extract_eoh_features(image)\n",
    "    # lbp_features = extract_lbp_features(image)\n",
    "    hist_features = extract_hist_feature(image)\n",
    "\n",
    "    # Concatenate features into a single vector\n",
    "    combined = np.concatenate((sift_features, hog_features, eoh_features, hist_features), axis=0)\n",
    "    return combined"
   ]
  },
  {
   "cell_type": "code",
   "execution_count": 16,
   "metadata": {
    "execution": {
     "iopub.execute_input": "2024-11-19T05:27:00.597295Z",
     "iopub.status.busy": "2024-11-19T05:27:00.596883Z",
     "iopub.status.idle": "2024-11-19T05:31:17.691915Z",
     "shell.execute_reply": "2024-11-19T05:31:17.690236Z",
     "shell.execute_reply.started": "2024-11-19T05:27:00.597258Z"
    },
    "id": "sEr8DT41jvUl",
    "trusted": true
   },
   "outputs": [
    {
     "data": {
      "text/plain": [
       "((95956, 8736), (23990, 8736))"
      ]
     },
     "execution_count": 16,
     "metadata": {},
     "output_type": "execute_result"
    }
   ],
   "source": [
    "X_train_features = []\n",
    "X_val_features = []\n",
    "for image in X_train_resized:\n",
    "    combined_features = combine_feature(image)\n",
    "    X_train_features.append(combined_features)\n",
    "for image in X_val_resized:\n",
    "    combined_features = combine_feature(image)\n",
    "    X_val_features.append(combined_features)\n",
    "X_train_features = np.array(X_train_features)\n",
    "X_val_features = np.array(X_val_features)\n",
    "\n",
    "X_train_features.shape, X_val_features.shape"
   ]
  },
  {
   "cell_type": "code",
   "execution_count": 17,
   "metadata": {
    "id": "mg4jUXSQjvUl"
   },
   "outputs": [],
   "source": [
    "del X_train, X_val"
   ]
  },
  {
   "cell_type": "code",
   "execution_count": 18,
   "metadata": {},
   "outputs": [],
   "source": [
    "# del X_train_resized, X_val_resized"
   ]
  },
  {
   "cell_type": "markdown",
   "metadata": {
    "id": "mvM6G7lLjvUl"
   },
   "source": [
    "## Fine-tune PCA and SVM"
   ]
  },
  {
   "cell_type": "markdown",
   "metadata": {
    "id": "wqqVDt-4jvUl"
   },
   "source": [
    "### Apply PCA"
   ]
  },
  {
   "cell_type": "code",
   "execution_count": 19,
   "metadata": {
    "id": "5MUSm4G5jvUl"
   },
   "outputs": [],
   "source": [
    "# # feature selection before pca\n",
    "# from sklearn.feature_selection import SelectKBest, mutual_info_classif\n",
    "# selector = SelectKBest(mutual_info_classif, k=100)  # Select top 100 features\n",
    "# X_train_selected = selector.fit_transform(X_train_features, y_train)\n",
    "# X_val_selected = selector.transform(X_val_features)\n",
    "\n",
    "# scaler = StandardScaler()\n",
    "# X_train_scaled = scaler.fit_transform(X_train_features)\n",
    "# X_val_scaled = scaler.transform(X_val_features)\n",
    "\n",
    "# # Apply PCA after feature selection\n",
    "# pca = PCA(n_components=pca_components)  # Reduce to 100 components\n",
    "# X_train_pca = pca.fit_transform(X_train_scaled)\n",
    "# X_val_pca = pca.transform(X_val_scaled)\n",
    "# X_train_pca.shape, X_val_pca.shape"
   ]
  },
  {
   "cell_type": "code",
   "execution_count": 20,
   "metadata": {
    "id": "xhEojMD9pBPI"
   },
   "outputs": [],
   "source": [
    "# del X_train_selected, X_val_selected"
   ]
  },
  {
   "cell_type": "markdown",
   "metadata": {
    "id": "vzeHsZJAjvUl"
   },
   "source": [
    "## SVM Classifier"
   ]
  },
  {
   "cell_type": "code",
   "execution_count": 21,
   "metadata": {
    "execution": {
     "iopub.execute_input": "2024-11-18T10:02:01.561923Z",
     "iopub.status.busy": "2024-11-18T10:02:01.561486Z",
     "iopub.status.idle": "2024-11-18T10:22:02.375651Z",
     "shell.execute_reply": "2024-11-18T10:22:02.374357Z",
     "shell.execute_reply.started": "2024-11-18T10:02:01.561882Z"
    },
    "id": "8VXw6xaCjvUl",
    "trusted": true
   },
   "outputs": [
    {
     "name": "stdout",
     "output_type": "stream",
     "text": [
      "Validation Accuracy: 0.7758\n",
      "\n",
      "Classification Report:\n",
      "              precision    recall  f1-score   support\n",
      "\n",
      "           0       0.78      0.83      0.80      2347\n",
      "           1       0.88      0.86      0.87      2482\n",
      "           2       0.72      0.69      0.70      2474\n",
      "           3       0.61      0.63      0.62      2393\n",
      "           4       0.72      0.75      0.73      2417\n",
      "           5       0.71      0.68      0.69      2395\n",
      "           6       0.82      0.82      0.82      2383\n",
      "           7       0.83      0.81      0.82      2336\n",
      "           8       0.86      0.84      0.85      2437\n",
      "           9       0.85      0.85      0.85      2326\n",
      "\n",
      "    accuracy                           0.78     23990\n",
      "   macro avg       0.78      0.78      0.78     23990\n",
      "weighted avg       0.78      0.78      0.78     23990\n",
      "\n"
     ]
    }
   ],
   "source": [
    "# svm_clf = make_pipeline(\n",
    "#     StandardScaler(),  # Standardize the features\n",
    "#     SVC(C=7.0, kernel='rbf', gamma='scale', random_state=SEED)  # SVM with RBF kernel\n",
    "# )\n",
    "from sklearn.pipeline import Pipeline\n",
    "\n",
    "svm_clf = Pipeline([\n",
    "    ('scaler', StandardScaler()),\n",
    "    ('pca', PCA(n_components=pca_components)),\n",
    "    ('svm', SVC(C=2, kernel='rbf', gamma='scale', random_state=SEED))\n",
    "])\n",
    "\n",
    "# Fit the model to the training data\n",
    "svm_clf.fit(X_train_features, y_train)\n",
    "\n",
    "# Predict on the validation set\n",
    "y_val_pred = svm_clf.predict(X_val_features)\n",
    "\n",
    "# Evaluate the model\n",
    "accuracy = accuracy_score(y_val, y_val_pred)\n",
    "print(f\"Validation Accuracy: {accuracy:.4f}\")\n",
    "\n",
    "# Detailed classification report\n",
    "print(\"\\nClassification Report:\")\n",
    "print(classification_report(y_val, y_val_pred))"
   ]
  },
  {
   "cell_type": "code",
   "execution_count": 22,
   "metadata": {},
   "outputs": [
    {
     "data": {
      "image/png": "[encoded data removed]",
      "text/plain": [
       "<Figure size 640x480 with 2 Axes>"
      ]
     },
     "metadata": {},
     "output_type": "display_data"
    }
   ],
   "source": [
    "from sklearn.metrics import confusion_matrix, ConfusionMatrixDisplay\n",
    "import matplotlib.pyplot as plt\n",
    "#confusion matrix for the validation set\n",
    "color = 'white'\n",
    "cm = confusion_matrix(y_val, y_val_pred)\n",
    "disp = ConfusionMatrixDisplay(cm)\n",
    "disp.plot()\n",
    "plt.xticks(rotation=45, ha='right')\n",
    "plt.show()"
   ]
  },
  {
   "cell_type": "markdown",
   "metadata": {
    "id": "aeqVf6jGjvUl"
   },
   "source": [
    "## Predict Test Data"
   ]
  },
  {
   "cell_type": "code",
   "execution_count": 23,
   "metadata": {
    "id": "EBdtwoPZjvUl"
   },
   "outputs": [
    {
     "name": "stdout",
     "output_type": "stream",
     "text": [
      "Preprocessed test images shape: (10000, 8736)\n",
      "Predictions saved to ./submission.csv\n"
     ]
    }
   ],
   "source": [
    "from PIL import Image\n",
    "X_test = read_data(mode=\"test\", data_dir='./data')\n",
    "X_test_features = []\n",
    "X_test_resized = resize_images(X_test)\n",
    "for image in X_test_resized:\n",
    "    combined_features = combine_feature(image)\n",
    "    X_test_features.append(combined_features)\n",
    "X_test_features = np.array(X_test_features)\n",
    "print(f\"Preprocessed test images shape: {X_test_features.shape}\")\n",
    "\n",
    "# Predict labels\n",
    "y_test_pred = svm_clf.predict(X_test_features)  # Use your trained model\n",
    "\n",
    "# Save predictions to CSV\n",
    "test_df['label'] = y_test_pred\n",
    "submission_file = './submission.csv'\n",
    "test_df.to_csv(submission_file, index=False)\n",
    "\n",
    "print(f\"Predictions saved to {submission_file}\")\n"
   ]
  }
 ],
 "metadata": {
  "colab": {
   "provenance": []
  },
  "kaggle": {
   "accelerator": "none",
   "dataSources": [
    {
     "datasetId": 6109805,
     "sourceId": 9938098,
     "sourceType": "datasetVersion"
    }
   ],
   "dockerImageVersionId": 30786,
   "isGpuEnabled": false,
   "isInternetEnabled": true,
   "language": "python",
   "sourceType": "notebook"
  },
  "kernelspec": {
   "display_name": "ml_env",
   "language": "python",
   "name": "python3"
  },
  "language_info": {
   "codemirror_mode": {
    "name": "ipython",
    "version": 3
   },
   "file_extension": ".py",
   "mimetype": "text/x-python",
   "name": "python",
   "nbconvert_exporter": "python",
   "pygments_lexer": "ipython3",
   "version": "3.11.10"
  }
 },
 "nbformat": 4,
 "nbformat_minor": 0
}
